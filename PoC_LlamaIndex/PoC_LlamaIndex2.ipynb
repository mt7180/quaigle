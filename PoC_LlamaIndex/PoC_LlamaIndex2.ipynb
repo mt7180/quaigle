{
 "cells": [
  {
   "cell_type": "markdown",
   "metadata": {},
   "source": [
    "## Chat engine in Condense Question mode with explicitely specified vector_retriever and response_synthesizer\n",
    "### trying to integrate marvins ai_model"
   ]
  },
  {
   "cell_type": "code",
   "execution_count": 1,
   "metadata": {},
   "outputs": [],
   "source": [
    "from marvin import ai_model\n",
    "from llama_index.bridge.pydantic import BaseModel, Field\n",
    "from llama_index.callbacks import CallbackManager, TokenCountingHandler\n",
    "from llama_index.llms import OpenAI\n",
    "from llama_index.llms import ChatMessage, MessageRole\n",
    "from llama_index import (\n",
    "    VectorStoreIndex, \n",
    "    SimpleDirectoryReader,\n",
    "    ServiceContext,\n",
    "    set_global_service_context,\n",
    "    get_response_synthesizer,\n",
    ")\n",
    "from llama_index.node_parser import SimpleNodeParser\n",
    "from llama_index.node_parser.extractors import (\n",
    "    MetadataExtractor,\n",
    ")\n",
    "from llama_index.text_splitter import TokenTextSplitter\n",
    "from llama_index.node_parser.extractors.marvin_metadata_extractor import (\n",
    "    MarvinMetadataExtractor,\n",
    ")\n",
    "from llama_index.retrievers import VectorIndexRetriever\n",
    "from llama_index.query_engine import RetrieverQueryEngine\n",
    "\n",
    "from openai import log as openai_log\n",
    "import tiktoken\n",
    "\n",
    "import logging\n",
    "import sys\n",
    "\n",
    "from dotenv import load_dotenv\n",
    "import os\n",
    "import certifi\n",
    "\n",
    "logging.basicConfig(stream=sys.stdout, level=logging.DEBUG)\n",
    "logging.getLogger().addHandler(logging.StreamHandler(stream=sys.stdout))\n",
    "openai_log = \"debug\"\n",
    "\n",
    "load_dotenv()\n",
    "# load_dotenv(\"../.env\")\n",
    "# workaround for mac to solve \"SSL: CERTIFICATE_VERIFY_FAILED Error\"\n",
    "\n",
    "\n",
    "os.environ[\"REQUESTS_CA_BUNDLE\"] = certifi.where()\n",
    "os.environ[\"SSL_CERT_FILE\"] = certifi.where()\n",
    "\n",
    "API_KEY = os.getenv('OPENAI_API_KEY')\n",
    "OPENAI_MODEL = \"gpt-3.5-turbo\""
   ]
  },
  {
   "cell_type": "code",
   "execution_count": 2,
   "metadata": {},
   "outputs": [],
   "source": [
    "CATEGORY_LABELS = [\n",
    "    \"Technical\",\n",
    "    \"Science-Fiction\",\n",
    "    \"Poetry\",\n",
    "    \"Fantasy\",\n",
    "    \"Mystery\",\n",
    "    \"Romance\",\n",
    "    \"Historical\",\n",
    "    \"Fiction\",\n",
    "    \"Self-Help\",\n",
    "    \"Biography\",\n",
    "    \"Travelogue\",\n",
    "    \"Horror\",\n",
    "    \"Comedy\",\n",
    "    \"Thriller\",\n",
    "    \"Science\",\n",
    "    \"Philosophy\",\n",
    "    \"Memoir\",\n",
    "    \"Cookbook\",\n",
    "    \"Business\",\n",
    "    \"Drama\",\n",
    "    \"Satire\",\n",
    "]\n",
    "\n",
    "@ai_model\n",
    "class QueryDocument(BaseModel):\n",
    "    #name: str = Field(..., description=\"The name of the document\")\n",
    "    description: str = Field(..., description=\"a brief summary of the document content.\")\n",
    "    text_category: str = Field(...,description=f\"best matching text category from the following list: {str(CATEGORY_LABELS)}\")\n",
    "    \n",
    "    # def __init__(self, name):\n",
    "    #     super().__init__()\n",
    "    #     self.name = name\n",
    "\n"
   ]
  },
  {
   "cell_type": "code",
   "execution_count": null,
   "metadata": {},
   "outputs": [],
   "source": []
  },
  {
   "cell_type": "code",
   "execution_count": 3,
   "metadata": {},
   "outputs": [],
   "source": [
    "\n",
    "documents = SimpleDirectoryReader(\n",
    "    input_files=[\"./data/test2.txt\"],\n",
    "    encoding=\"utf-8\"\n",
    ").load_data()\n",
    "\n",
    "llm = OpenAI(model=OPENAI_MODEL, temperature=0, max_tokens=512)\n",
    "\n",
    "token_counter = TokenCountingHandler(\n",
    "    tokenizer=tiktoken.encoding_for_model(OPENAI_MODEL).encode\n",
    ")\n",
    "callback_manager = CallbackManager([token_counter])\n",
    "\n",
    "#CHAT_MODE = \"technical\"\n"
   ]
  },
  {
   "cell_type": "code",
   "execution_count": 4,
   "metadata": {},
   "outputs": [
    {
     "name": "stdout",
     "output_type": "stream",
     "text": [
      "INFO:root:Number of used tokens: 0\n",
      "Number of used tokens: 0\n"
     ]
    }
   ],
   "source": [
    "\n",
    "\n",
    "metadata_extractor = MetadataExtractor(\n",
    "    extractors=[\n",
    "        MarvinMetadataExtractor(\n",
    "            marvin_model=QueryDocument, \n",
    "            llm_model_string=OPENAI_MODEL,\n",
    "            show_progress = True,\n",
    "            callback_manager=callback_manager,\n",
    "\n",
    "        ),\n",
    "    ],\n",
    ")\n",
    "\n",
    "logging.info(f\"Number of used tokens: {token_counter.total_embedding_token_count}\")\n",
    "\n",
    "text_splitter = TokenTextSplitter(\n",
    "    separator=\" \", \n",
    "    chunk_size=1024, \n",
    "    chunk_overlap=128,\n",
    "    callback_manager=callback_manager\n",
    ")\n"
   ]
  },
  {
   "cell_type": "code",
   "execution_count": 5,
   "metadata": {},
   "outputs": [
    {
     "name": "stdout",
     "output_type": "stream",
     "text": [
      "INFO:root:Number of used tokens: 0\n",
      "Number of used tokens: 0\n"
     ]
    }
   ],
   "source": [
    "\n",
    "\n",
    "node_parser = SimpleNodeParser(\n",
    "    text_splitter=text_splitter,\n",
    "    metadata_extractor=metadata_extractor,\n",
    "    callback_manager = callback_manager,\n",
    ")\n",
    "\n",
    "logging.info(f\"Number of used tokens: {token_counter.total_embedding_token_count}\")"
   ]
  },
  {
   "cell_type": "code",
   "execution_count": 6,
   "metadata": {},
   "outputs": [
    {
     "name": "stdout",
     "output_type": "stream",
     "text": [
      "DEBUG:llama_index.node_parser.node_utils:> Adding chunk: Albert Einstein (* 14. März 1879 in Ulm; † 18. ...\n",
      "> Adding chunk: Albert Einstein (* 14. März 1879 in Ulm; † 18. ...\n",
      "DEBUG:asyncio:Using selector: KqueueSelector\n",
      "Using selector: KqueueSelector\n",
      "DEBUG:openai:message='Request to OpenAI API' method=post path=https://api.openai.com/v1/chat/completions\n",
      "message='Request to OpenAI API' method=post path=https://api.openai.com/v1/chat/completions\n",
      "DEBUG:openai:api_version=None data='{\"model\": \"gpt-3.5-turbo\", \"messages\": [{\"role\": \"system\", \"content\": \"The user will provide context as text that you need to parse into a\\\\nstructured form. To validate your response, you must call the\\\\n`FormatResponse` function. Use the provided text to extract or infer\\\\nany parameters needed by `FormatResponse`, including any missing\\\\ndata.\\\\n\\\\nIt is Tuesday, 26 September 2023 at 07:47:22 PM UTC.\"}, {\"role\": \"user\", \"content\": \"The text to parse: Albert Einstein (* 14. M\\\\u00e4rz 1879 in Ulm; \\\\u2020 18. April 1955 in Princeton, New Jersey)\\\\nwar ein schweizerisch-US-amerikanischer theoretischer Physiker deutscher Herkunft.\\\\nDer Wissenschaftler j\\\\u00fcdischer Abstammung hatte ab 1901 die Schweizer und ab 1940 zus\\\\u00e4tzlich die US-amerikanische Staatsb\\\\u00fcrgerschaft.\\\\nDeutscher Staatsangeh\\\\u00f6riger war Einstein nochmals von 1914 bis 1934.\\\\nEr gilt als einer der bedeutendsten Physiker der Wissenschaftsgeschichte und weltweit als einer der bekanntesten Wissenschaftler der Neuzeit.\\\\nSeine Forschungen zur Struktur von Materie, Raum und Zeit sowie zum Wesen der Gravitation ver\\\\u00e4nderten ma\\\\u00dfgeblich das zuvor geltende newtonsche Weltbild.\\\\n1999 wurde Albert Einstein in einer durch die Fachzeitschrift Physics World durchgef\\\\u00fchrten Umfrage unter f\\\\u00fchrenden Physikern vor Isaac Newton,\\\\nJames Clerk Maxwell, Niels Bohr und Werner Heisenberg zum bedeutendsten Physiker aller Zeiten gew\\\\u00e4hlt.\"}], \"stream\": false, \"functions\": [{\"name\": \"FormatResponse\", \"description\": \"You MUST always call this function before responding to the user to ensure that your final response is formatted correctly and complies with the output format requirements.\\\\n\\\\nBase class for AI models.\", \"parameters\": {\"description\": \"Base class for AI models.\", \"type\": \"object\", \"properties\": {\"description\": {\"title\": \"Description\", \"description\": \"a brief summary of the document content.\", \"type\": \"string\"}, \"text_category\": {\"title\": \"Text Category\", \"description\": \"best matching text category from the following list: [\\'Technical\\', \\'Science-Fiction\\', \\'Poetry\\', \\'Fantasy\\', \\'Mystery\\', \\'Romance\\', \\'Historical\\', \\'Fiction\\', \\'Self-Help\\', \\'Biography\\', \\'Travelogue\\', \\'Horror\\', \\'Comedy\\', \\'Thriller\\', \\'Science\\', \\'Philosophy\\', \\'Memoir\\', \\'Cookbook\\', \\'Business\\', \\'Drama\\', \\'Satire\\']\", \"type\": \"string\"}}, \"required\": [\"description\", \"text_category\"]}}], \"function_call\": {\"name\": \"FormatResponse\"}, \"temperature\": 0.8, \"max_tokens\": 1500}' message='Post details'\n",
      "api_version=None data='{\"model\": \"gpt-3.5-turbo\", \"messages\": [{\"role\": \"system\", \"content\": \"The user will provide context as text that you need to parse into a\\\\nstructured form. To validate your response, you must call the\\\\n`FormatResponse` function. Use the provided text to extract or infer\\\\nany parameters needed by `FormatResponse`, including any missing\\\\ndata.\\\\n\\\\nIt is Tuesday, 26 September 2023 at 07:47:22 PM UTC.\"}, {\"role\": \"user\", \"content\": \"The text to parse: Albert Einstein (* 14. M\\\\u00e4rz 1879 in Ulm; \\\\u2020 18. April 1955 in Princeton, New Jersey)\\\\nwar ein schweizerisch-US-amerikanischer theoretischer Physiker deutscher Herkunft.\\\\nDer Wissenschaftler j\\\\u00fcdischer Abstammung hatte ab 1901 die Schweizer und ab 1940 zus\\\\u00e4tzlich die US-amerikanische Staatsb\\\\u00fcrgerschaft.\\\\nDeutscher Staatsangeh\\\\u00f6riger war Einstein nochmals von 1914 bis 1934.\\\\nEr gilt als einer der bedeutendsten Physiker der Wissenschaftsgeschichte und weltweit als einer der bekanntesten Wissenschaftler der Neuzeit.\\\\nSeine Forschungen zur Struktur von Materie, Raum und Zeit sowie zum Wesen der Gravitation ver\\\\u00e4nderten ma\\\\u00dfgeblich das zuvor geltende newtonsche Weltbild.\\\\n1999 wurde Albert Einstein in einer durch die Fachzeitschrift Physics World durchgef\\\\u00fchrten Umfrage unter f\\\\u00fchrenden Physikern vor Isaac Newton,\\\\nJames Clerk Maxwell, Niels Bohr und Werner Heisenberg zum bedeutendsten Physiker aller Zeiten gew\\\\u00e4hlt.\"}], \"stream\": false, \"functions\": [{\"name\": \"FormatResponse\", \"description\": \"You MUST always call this function before responding to the user to ensure that your final response is formatted correctly and complies with the output format requirements.\\\\n\\\\nBase class for AI models.\", \"parameters\": {\"description\": \"Base class for AI models.\", \"type\": \"object\", \"properties\": {\"description\": {\"title\": \"Description\", \"description\": \"a brief summary of the document content.\", \"type\": \"string\"}, \"text_category\": {\"title\": \"Text Category\", \"description\": \"best matching text category from the following list: [\\'Technical\\', \\'Science-Fiction\\', \\'Poetry\\', \\'Fantasy\\', \\'Mystery\\', \\'Romance\\', \\'Historical\\', \\'Fiction\\', \\'Self-Help\\', \\'Biography\\', \\'Travelogue\\', \\'Horror\\', \\'Comedy\\', \\'Thriller\\', \\'Science\\', \\'Philosophy\\', \\'Memoir\\', \\'Cookbook\\', \\'Business\\', \\'Drama\\', \\'Satire\\']\", \"type\": \"string\"}}, \"required\": [\"description\", \"text_category\"]}}], \"function_call\": {\"name\": \"FormatResponse\"}, \"temperature\": 0.8, \"max_tokens\": 1500}' message='Post details'\n",
      "INFO:openai:message='OpenAI API response' path=https://api.openai.com/v1/chat/completions processing_ms=7821 request_id=efe285412d3ad4168146897b21ddf1b9 response_code=200\n",
      "message='OpenAI API response' path=https://api.openai.com/v1/chat/completions processing_ms=7821 request_id=efe285412d3ad4168146897b21ddf1b9 response_code=200\n",
      "INFO:root:Number of used tokens: 0\n",
      "Number of used tokens: 0\n",
      "{'marvin_metadata': {'description': 'Albert Einstein was a Swiss-American '\n",
      "                                    'theoretical physicist of German origin. '\n",
      "                                    'He was born on March 14, 1879 in Ulm and '\n",
      "                                    'died on April 18, 1955 in Princeton, New '\n",
      "                                    'Jersey. Einstein had Swiss citizenship '\n",
      "                                    'from 1901 and additionally obtained US '\n",
      "                                    'citizenship in 1940. He was also a German '\n",
      "                                    'citizen from 1914 to 1934. Einstein is '\n",
      "                                    'considered one of the most significant '\n",
      "                                    'physicists in the history of science and '\n",
      "                                    'one of the most well-known scientists of '\n",
      "                                    'modern times. His research on the '\n",
      "                                    'structure of matter, space and time, as '\n",
      "                                    'well as the nature of gravitation, '\n",
      "                                    'significantly changed the previously '\n",
      "                                    'accepted Newtonian worldview. In a survey '\n",
      "                                    'conducted by the journal Physics World in '\n",
      "                                    '1999, Albert Einstein was voted the most '\n",
      "                                    'significant physicist of all time, ahead '\n",
      "                                    'of Isaac Newton, James Clerk Maxwell, '\n",
      "                                    'Niels Bohr, and Werner Heisenberg.',\n",
      "                     'text_category': 'Biography'}}\n"
     ]
    }
   ],
   "source": [
    "\n",
    "nodes = node_parser.get_nodes_from_documents(documents)\n",
    "\n",
    "logging.info(f\"Number of used tokens: {token_counter.total_embedding_token_count}\")\n",
    "\n",
    "from pprint import pprint\n",
    "\n",
    "for node in nodes:\n",
    "    pprint(node.metadata)"
   ]
  },
  {
   "cell_type": "code",
   "execution_count": 7,
   "metadata": {},
   "outputs": [],
   "source": [
    "text_category = nodes[0].metadata[\"marvin_metadata\"].get(\"text_category\")"
   ]
  },
  {
   "cell_type": "code",
   "execution_count": 8,
   "metadata": {},
   "outputs": [],
   "source": [
    "system_prompt = f\"\"\"You are a chatbot that responds to all questions about the content of a given document, which is available in the form of embeddings in the given vector database. The user gives you instructions on which questions to answer. \n",
    "    When you write the answers, you need to make sure that the user's expectations are met. Remember that you are an accurate and experienced writer \n",
    "    and you write unique and short answers in the style of a {text_category} text. Don't add anything hallucinatory.\n",
    "    Use friendly, easy-to-read language, and if it is a technical or scientific text, please stay correct and focused.\n",
    "    Responses should be no longer than 10 sentences, unless the user explicitly specifies the number of sentences.\n",
    "\"\"\"\n",
    "service_context = ServiceContext.from_defaults(\n",
    "    llm=llm, \n",
    "    chunk_size=1024, \n",
    "    chunk_overlap=152,\n",
    "    #system_prompt=system_prompt,\n",
    "    callback_manager=callback_manager,\n",
    ")\n",
    "set_global_service_context(service_context)\n"
   ]
  },
  {
   "cell_type": "code",
   "execution_count": 9,
   "metadata": {},
   "outputs": [
    {
     "name": "stdout",
     "output_type": "stream",
     "text": [
      "DEBUG:openai:message='Request to OpenAI API' method=post path=https://api.openai.com/v1/embeddings\n",
      "message='Request to OpenAI API' method=post path=https://api.openai.com/v1/embeddings\n",
      "DEBUG:openai:api_version=None data='{\"input\": [\"[Excerpt from document] marvin_metadata: {\\'description\\': \\'Albert Einstein was a Swiss-American theoretical physicist of German origin. He was born on March 14, 1879 in Ulm and died on April 18, 1955 in Princeton, New Jersey. Einstein had Swiss citizenship from 1901 and additionally obtained US citizenship in 1940. He was also a German citizen from 1914 to 1934. Einstein is considered one of the most significant physicists in the history of science and one of the most well-known scientists of modern times. His research on the structure of matter, space and time, as well as the nature of gravitation, significantly changed the previously accepted Newtonian worldview. In a survey conducted by the journal Physics World in 1999, Albert Einstein was voted the most significant physicist of all time, ahead of Isaac Newton, James Clerk Maxwell, Niels Bohr, and Werner Heisenberg.\\', \\'text_category\\': \\'Biography\\'} Excerpt: ----- Albert Einstein (* 14. M\\\\u00e4rz 1879 in Ulm; \\\\u2020 18. April 1955 in Princeton, New Jersey) war ein schweizerisch-US-amerikanischer theoretischer Physiker deutscher Herkunft. Der Wissenschaftler j\\\\u00fcdischer Abstammung hatte ab 1901 die Schweizer und ab 1940 zus\\\\u00e4tzlich die US-amerikanische Staatsb\\\\u00fcrgerschaft. Deutscher Staatsangeh\\\\u00f6riger war Einstein nochmals von 1914 bis 1934. Er gilt als einer der bedeutendsten Physiker der Wissenschaftsgeschichte und weltweit als einer der bekanntesten Wissenschaftler der Neuzeit. Seine Forschungen zur Struktur von Materie, Raum und Zeit sowie zum Wesen der Gravitation ver\\\\u00e4nderten ma\\\\u00dfgeblich das zuvor geltende newtonsche Weltbild. 1999 wurde Albert Einstein in einer durch die Fachzeitschrift Physics World durchgef\\\\u00fchrten Umfrage unter f\\\\u00fchrenden Physikern vor Isaac Newton, James Clerk Maxwell, Niels Bohr und Werner Heisenberg zum bedeutendsten Physiker aller Zeiten gew\\\\u00e4hlt. -----\"], \"model\": \"text-embedding-ada-002\", \"encoding_format\": \"base64\"}' message='Post details'\n",
      "api_version=None data='{\"input\": [\"[Excerpt from document] marvin_metadata: {\\'description\\': \\'Albert Einstein was a Swiss-American theoretical physicist of German origin. He was born on March 14, 1879 in Ulm and died on April 18, 1955 in Princeton, New Jersey. Einstein had Swiss citizenship from 1901 and additionally obtained US citizenship in 1940. He was also a German citizen from 1914 to 1934. Einstein is considered one of the most significant physicists in the history of science and one of the most well-known scientists of modern times. His research on the structure of matter, space and time, as well as the nature of gravitation, significantly changed the previously accepted Newtonian worldview. In a survey conducted by the journal Physics World in 1999, Albert Einstein was voted the most significant physicist of all time, ahead of Isaac Newton, James Clerk Maxwell, Niels Bohr, and Werner Heisenberg.\\', \\'text_category\\': \\'Biography\\'} Excerpt: ----- Albert Einstein (* 14. M\\\\u00e4rz 1879 in Ulm; \\\\u2020 18. April 1955 in Princeton, New Jersey) war ein schweizerisch-US-amerikanischer theoretischer Physiker deutscher Herkunft. Der Wissenschaftler j\\\\u00fcdischer Abstammung hatte ab 1901 die Schweizer und ab 1940 zus\\\\u00e4tzlich die US-amerikanische Staatsb\\\\u00fcrgerschaft. Deutscher Staatsangeh\\\\u00f6riger war Einstein nochmals von 1914 bis 1934. Er gilt als einer der bedeutendsten Physiker der Wissenschaftsgeschichte und weltweit als einer der bekanntesten Wissenschaftler der Neuzeit. Seine Forschungen zur Struktur von Materie, Raum und Zeit sowie zum Wesen der Gravitation ver\\\\u00e4nderten ma\\\\u00dfgeblich das zuvor geltende newtonsche Weltbild. 1999 wurde Albert Einstein in einer durch die Fachzeitschrift Physics World durchgef\\\\u00fchrten Umfrage unter f\\\\u00fchrenden Physikern vor Isaac Newton, James Clerk Maxwell, Niels Bohr und Werner Heisenberg zum bedeutendsten Physiker aller Zeiten gew\\\\u00e4hlt. -----\"], \"model\": \"text-embedding-ada-002\", \"encoding_format\": \"base64\"}' message='Post details'\n",
      "DEBUG:urllib3.util.retry:Converted retries value: 2 -> Retry(total=2, connect=None, read=None, redirect=None, status=None)\n",
      "Converted retries value: 2 -> Retry(total=2, connect=None, read=None, redirect=None, status=None)\n",
      "DEBUG:urllib3.connectionpool:Starting new HTTPS connection (1): api.openai.com:443\n",
      "Starting new HTTPS connection (1): api.openai.com:443\n",
      "DEBUG:urllib3.connectionpool:https://api.openai.com:443 \"POST /v1/embeddings HTTP/1.1\" 200 None\n",
      "https://api.openai.com:443 \"POST /v1/embeddings HTTP/1.1\" 200 None\n",
      "DEBUG:openai:message='OpenAI API response' path=https://api.openai.com/v1/embeddings processing_ms=33 request_id=fc441842e5d78a6dd60b1576acb3f7af response_code=200\n",
      "message='OpenAI API response' path=https://api.openai.com/v1/embeddings processing_ms=33 request_id=fc441842e5d78a6dd60b1576acb3f7af response_code=200\n"
     ]
    },
    {
     "name": "stderr",
     "output_type": "stream",
     "text": [
      "--- Logging error ---\n",
      "Traceback (most recent call last):\n",
      "  File \"/Library/Frameworks/Python.framework/Versions/3.10/lib/python3.10/logging/__init__.py\", line 1098, in emit\n",
      "    msg = self.format(record)\n",
      "  File \"/Library/Frameworks/Python.framework/Versions/3.10/lib/python3.10/logging/__init__.py\", line 942, in format\n",
      "    return fmt.format(record)\n",
      "  File \"/Library/Frameworks/Python.framework/Versions/3.10/lib/python3.10/logging/__init__.py\", line 678, in format\n",
      "    record.message = record.getMessage()\n",
      "  File \"/Library/Frameworks/Python.framework/Versions/3.10/lib/python3.10/logging/__init__.py\", line 368, in getMessage\n",
      "    msg = msg % self.args\n",
      "TypeError: not all arguments converted during string formatting\n",
      "Call stack:\n",
      "  File \"/Library/Frameworks/Python.framework/Versions/3.10/lib/python3.10/runpy.py\", line 196, in _run_module_as_main\n",
      "    return _run_code(code, main_globals, None,\n",
      "  File \"/Library/Frameworks/Python.framework/Versions/3.10/lib/python3.10/runpy.py\", line 86, in _run_code\n",
      "    exec(code, run_globals)\n",
      "  File \"/Users/miratheidel/Documents/Programmierung/Projects/pdm_1_qoogleIt/venv/lib/python3.10/site-packages/ipykernel_launcher.py\", line 17, in <module>\n",
      "    app.launch_new_instance()\n",
      "  File \"/Users/miratheidel/Documents/Programmierung/Projects/pdm_1_qoogleIt/venv/lib/python3.10/site-packages/traitlets/config/application.py\", line 1046, in launch_instance\n",
      "    app.start()\n",
      "  File \"/Users/miratheidel/Documents/Programmierung/Projects/pdm_1_qoogleIt/venv/lib/python3.10/site-packages/ipykernel/kernelapp.py\", line 736, in start\n",
      "    self.io_loop.start()\n",
      "  File \"/Users/miratheidel/Documents/Programmierung/Projects/pdm_1_qoogleIt/venv/lib/python3.10/site-packages/tornado/platform/asyncio.py\", line 195, in start\n",
      "    self.asyncio_loop.run_forever()\n",
      "  File \"/Library/Frameworks/Python.framework/Versions/3.10/lib/python3.10/asyncio/base_events.py\", line 595, in run_forever\n",
      "    self._run_once()\n",
      "  File \"/Library/Frameworks/Python.framework/Versions/3.10/lib/python3.10/asyncio/base_events.py\", line 1881, in _run_once\n",
      "    handle._run()\n",
      "  File \"/Library/Frameworks/Python.framework/Versions/3.10/lib/python3.10/asyncio/events.py\", line 80, in _run\n",
      "    self._context.run(self._callback, *self._args)\n",
      "  File \"/Users/miratheidel/Documents/Programmierung/Projects/pdm_1_qoogleIt/venv/lib/python3.10/site-packages/ipykernel/kernelbase.py\", line 516, in dispatch_queue\n",
      "    await self.process_one()\n",
      "  File \"/Users/miratheidel/Documents/Programmierung/Projects/pdm_1_qoogleIt/venv/lib/python3.10/site-packages/ipykernel/kernelbase.py\", line 505, in process_one\n",
      "    await dispatch(*args)\n",
      "  File \"/Users/miratheidel/Documents/Programmierung/Projects/pdm_1_qoogleIt/venv/lib/python3.10/site-packages/ipykernel/kernelbase.py\", line 412, in dispatch_shell\n",
      "    await result\n",
      "  File \"/Users/miratheidel/Documents/Programmierung/Projects/pdm_1_qoogleIt/venv/lib/python3.10/site-packages/ipykernel/kernelbase.py\", line 740, in execute_request\n",
      "    reply_content = await reply_content\n",
      "  File \"/Users/miratheidel/Documents/Programmierung/Projects/pdm_1_qoogleIt/venv/lib/python3.10/site-packages/ipykernel/ipkernel.py\", line 422, in do_execute\n",
      "    res = shell.run_cell(\n",
      "  File \"/Users/miratheidel/Documents/Programmierung/Projects/pdm_1_qoogleIt/venv/lib/python3.10/site-packages/ipykernel/zmqshell.py\", line 546, in run_cell\n",
      "    return super().run_cell(*args, **kwargs)\n",
      "  File \"/Users/miratheidel/Documents/Programmierung/Projects/pdm_1_qoogleIt/venv/lib/python3.10/site-packages/IPython/core/interactiveshell.py\", line 3024, in run_cell\n",
      "    result = self._run_cell(\n",
      "  File \"/Users/miratheidel/Documents/Programmierung/Projects/pdm_1_qoogleIt/venv/lib/python3.10/site-packages/IPython/core/interactiveshell.py\", line 3079, in _run_cell\n",
      "    result = runner(coro)\n",
      "  File \"/Users/miratheidel/Documents/Programmierung/Projects/pdm_1_qoogleIt/venv/lib/python3.10/site-packages/IPython/core/async_helpers.py\", line 129, in _pseudo_sync_runner\n",
      "    coro.send(None)\n",
      "  File \"/Users/miratheidel/Documents/Programmierung/Projects/pdm_1_qoogleIt/venv/lib/python3.10/site-packages/IPython/core/interactiveshell.py\", line 3284, in run_cell_async\n",
      "    has_raised = await self.run_ast_nodes(code_ast.body, cell_name,\n",
      "  File \"/Users/miratheidel/Documents/Programmierung/Projects/pdm_1_qoogleIt/venv/lib/python3.10/site-packages/IPython/core/interactiveshell.py\", line 3466, in run_ast_nodes\n",
      "    if await self.run_code(code, result, async_=asy):\n",
      "  File \"/Users/miratheidel/Documents/Programmierung/Projects/pdm_1_qoogleIt/venv/lib/python3.10/site-packages/IPython/core/interactiveshell.py\", line 3526, in run_code\n",
      "    exec(code_obj, self.user_global_ns, self.user_ns)\n",
      "  File \"/var/folders/m5/570n50js4fb24y9ht7nd_pm00000gn/T/ipykernel_48304/2694865380.py\", line 2, in <module>\n",
      "    logging.info(\n",
      "Message: 'Embedding Tokens: '\n",
      "Arguments: (450, '\\n', 'LLM Prompt Tokens: ', 0, '\\n', 'LLM Completion Tokens: ', 0, '\\n', 'Total LLM Token Count: ', 0, '\\n')\n",
      "--- Logging error ---\n",
      "Traceback (most recent call last):\n",
      "  File \"/Library/Frameworks/Python.framework/Versions/3.10/lib/python3.10/logging/__init__.py\", line 1098, in emit\n",
      "    msg = self.format(record)\n",
      "  File \"/Library/Frameworks/Python.framework/Versions/3.10/lib/python3.10/logging/__init__.py\", line 942, in format\n",
      "    return fmt.format(record)\n",
      "  File \"/Library/Frameworks/Python.framework/Versions/3.10/lib/python3.10/logging/__init__.py\", line 678, in format\n",
      "    record.message = record.getMessage()\n",
      "  File \"/Library/Frameworks/Python.framework/Versions/3.10/lib/python3.10/logging/__init__.py\", line 368, in getMessage\n",
      "    msg = msg % self.args\n",
      "TypeError: not all arguments converted during string formatting\n",
      "Call stack:\n",
      "  File \"/Library/Frameworks/Python.framework/Versions/3.10/lib/python3.10/runpy.py\", line 196, in _run_module_as_main\n",
      "    return _run_code(code, main_globals, None,\n",
      "  File \"/Library/Frameworks/Python.framework/Versions/3.10/lib/python3.10/runpy.py\", line 86, in _run_code\n",
      "    exec(code, run_globals)\n",
      "  File \"/Users/miratheidel/Documents/Programmierung/Projects/pdm_1_qoogleIt/venv/lib/python3.10/site-packages/ipykernel_launcher.py\", line 17, in <module>\n",
      "    app.launch_new_instance()\n",
      "  File \"/Users/miratheidel/Documents/Programmierung/Projects/pdm_1_qoogleIt/venv/lib/python3.10/site-packages/traitlets/config/application.py\", line 1046, in launch_instance\n",
      "    app.start()\n",
      "  File \"/Users/miratheidel/Documents/Programmierung/Projects/pdm_1_qoogleIt/venv/lib/python3.10/site-packages/ipykernel/kernelapp.py\", line 736, in start\n",
      "    self.io_loop.start()\n",
      "  File \"/Users/miratheidel/Documents/Programmierung/Projects/pdm_1_qoogleIt/venv/lib/python3.10/site-packages/tornado/platform/asyncio.py\", line 195, in start\n",
      "    self.asyncio_loop.run_forever()\n",
      "  File \"/Library/Frameworks/Python.framework/Versions/3.10/lib/python3.10/asyncio/base_events.py\", line 595, in run_forever\n",
      "    self._run_once()\n",
      "  File \"/Library/Frameworks/Python.framework/Versions/3.10/lib/python3.10/asyncio/base_events.py\", line 1881, in _run_once\n",
      "    handle._run()\n",
      "  File \"/Library/Frameworks/Python.framework/Versions/3.10/lib/python3.10/asyncio/events.py\", line 80, in _run\n",
      "    self._context.run(self._callback, *self._args)\n",
      "  File \"/Users/miratheidel/Documents/Programmierung/Projects/pdm_1_qoogleIt/venv/lib/python3.10/site-packages/ipykernel/kernelbase.py\", line 516, in dispatch_queue\n",
      "    await self.process_one()\n",
      "  File \"/Users/miratheidel/Documents/Programmierung/Projects/pdm_1_qoogleIt/venv/lib/python3.10/site-packages/ipykernel/kernelbase.py\", line 505, in process_one\n",
      "    await dispatch(*args)\n",
      "  File \"/Users/miratheidel/Documents/Programmierung/Projects/pdm_1_qoogleIt/venv/lib/python3.10/site-packages/ipykernel/kernelbase.py\", line 412, in dispatch_shell\n",
      "    await result\n",
      "  File \"/Users/miratheidel/Documents/Programmierung/Projects/pdm_1_qoogleIt/venv/lib/python3.10/site-packages/ipykernel/kernelbase.py\", line 740, in execute_request\n",
      "    reply_content = await reply_content\n",
      "  File \"/Users/miratheidel/Documents/Programmierung/Projects/pdm_1_qoogleIt/venv/lib/python3.10/site-packages/ipykernel/ipkernel.py\", line 422, in do_execute\n",
      "    res = shell.run_cell(\n",
      "  File \"/Users/miratheidel/Documents/Programmierung/Projects/pdm_1_qoogleIt/venv/lib/python3.10/site-packages/ipykernel/zmqshell.py\", line 546, in run_cell\n",
      "    return super().run_cell(*args, **kwargs)\n",
      "  File \"/Users/miratheidel/Documents/Programmierung/Projects/pdm_1_qoogleIt/venv/lib/python3.10/site-packages/IPython/core/interactiveshell.py\", line 3024, in run_cell\n",
      "    result = self._run_cell(\n",
      "  File \"/Users/miratheidel/Documents/Programmierung/Projects/pdm_1_qoogleIt/venv/lib/python3.10/site-packages/IPython/core/interactiveshell.py\", line 3079, in _run_cell\n",
      "    result = runner(coro)\n",
      "  File \"/Users/miratheidel/Documents/Programmierung/Projects/pdm_1_qoogleIt/venv/lib/python3.10/site-packages/IPython/core/async_helpers.py\", line 129, in _pseudo_sync_runner\n",
      "    coro.send(None)\n",
      "  File \"/Users/miratheidel/Documents/Programmierung/Projects/pdm_1_qoogleIt/venv/lib/python3.10/site-packages/IPython/core/interactiveshell.py\", line 3284, in run_cell_async\n",
      "    has_raised = await self.run_ast_nodes(code_ast.body, cell_name,\n",
      "  File \"/Users/miratheidel/Documents/Programmierung/Projects/pdm_1_qoogleIt/venv/lib/python3.10/site-packages/IPython/core/interactiveshell.py\", line 3466, in run_ast_nodes\n",
      "    if await self.run_code(code, result, async_=asy):\n",
      "  File \"/Users/miratheidel/Documents/Programmierung/Projects/pdm_1_qoogleIt/venv/lib/python3.10/site-packages/IPython/core/interactiveshell.py\", line 3526, in run_code\n",
      "    exec(code_obj, self.user_global_ns, self.user_ns)\n",
      "  File \"/var/folders/m5/570n50js4fb24y9ht7nd_pm00000gn/T/ipykernel_48304/2694865380.py\", line 2, in <module>\n",
      "    logging.info(\n",
      "Message: 'Embedding Tokens: '\n",
      "Arguments: (450, '\\n', 'LLM Prompt Tokens: ', 0, '\\n', 'LLM Completion Tokens: ', 0, '\\n', 'Total LLM Token Count: ', 0, '\\n')\n"
     ]
    }
   ],
   "source": [
    "vector_index = VectorStoreIndex(nodes, service_context=service_context) # openai api is called with whole text to make the embeddings\n",
    "logging.info(\n",
    "    \"Embedding Tokens: \",\n",
    "    token_counter.total_embedding_token_count,\n",
    "    \"\\n\",\n",
    "    \"LLM Prompt Tokens: \",\n",
    "    token_counter.prompt_llm_token_count,\n",
    "    \"\\n\",\n",
    "    \"LLM Completion Tokens: \",\n",
    "    token_counter.completion_llm_token_count,\n",
    "    \"\\n\",\n",
    "    \"Total LLM Token Count: \",\n",
    "    token_counter.total_llm_token_count,\n",
    "    \"\\n\",\n",
    ")"
   ]
  },
  {
   "cell_type": "code",
   "execution_count": null,
   "metadata": {},
   "outputs": [],
   "source": []
  },
  {
   "cell_type": "code",
   "execution_count": 10,
   "metadata": {},
   "outputs": [
    {
     "name": "stdout",
     "output_type": "stream",
     "text": [
      "INFO:root:Number of used tokens: 450\n",
      "Number of used tokens: 450\n"
     ]
    }
   ],
   "source": [
    "vector_retriever = VectorIndexRetriever(\n",
    "    index=vector_index,\n",
    "    similarity_top=2,\n",
    "\n",
    ")\n",
    "\n",
    "vector_query_engine = RetrieverQueryEngine(\n",
    "    retriever=vector_retriever,\n",
    "    response_synthesizer=get_response_synthesizer(),\n",
    "    callback_manager=callback_manager,\n",
    ")\n",
    "logging.info(f\"Number of used tokens: {token_counter.total_embedding_token_count}\")"
   ]
  },
  {
   "cell_type": "code",
   "execution_count": 11,
   "metadata": {},
   "outputs": [],
   "source": [
    "from llama_index.chat_engine.condense_question import CondenseQuestionChatEngine\n",
    "\n",
    "# list of `ChatMessage` objects\n",
    "# custom_chat_history = [\n",
    "#     ChatMessage(\n",
    "#         role=MessageRole.USER, \n",
    "#         content='Hello assistant, we are having a insightful discussion about the given text content.'\n",
    "#     ), \n",
    "#     ChatMessage(\n",
    "#         role=MessageRole.ASSISTANT, \n",
    "#         content='Okay, sounds good.'\n",
    "#     )\n",
    "# ]\n",
    "chat_engine = CondenseQuestionChatEngine.from_defaults(\n",
    "    query_engine=vector_query_engine, \n",
    "    #condense_question_prompt=custom_prompt,\n",
    "    #chat_history=custom_chat_history,\n",
    "    \n",
    "    verbose=True,\n",
    "    callback_manager=callback_manager,\n",
    "    \n",
    ")"
   ]
  },
  {
   "cell_type": "code",
   "execution_count": 13,
   "metadata": {},
   "outputs": [
    {
     "name": "stdout",
     "output_type": "stream",
     "text": [
      "DEBUG:llama_index.chat_engine.condense_question:user: What did Einstein do?\n",
      "assistant: Einstein's contribution or achievement was his groundbreaking research on the structure of matter, space and time, as well as the nature of gravitation. His work significantly changed the previously accepted Newtonian worldview and had a profound impact on the field of physics. He is considered one of the most significant physicists in the history of science and is widely recognized as one of the most well-known scientists of modern times.\n",
      "user: What did Einstein do?\n",
      "assistant: Einstein's contribution or achievement was his groundbreaking research on the structure of matter, space and time, as well as the nature of gravitation. His work significantly changed the previously accepted Newtonian worldview and had a profound impact on the field of physics. He is considered one of the most significant physicists in the history of science and is widely recognized as one of the most well-known scientists of modern times.\n",
      "DEBUG:openai:message='Request to OpenAI API' method=post path=https://api.openai.com/v1/chat/completions\n",
      "message='Request to OpenAI API' method=post path=https://api.openai.com/v1/chat/completions\n",
      "DEBUG:openai:api_version=None data='{\"messages\": [{\"role\": \"user\", \"content\": \"Given a conversation (between Human and Assistant) and a follow up message from Human, rewrite the message to be a standalone question that captures all relevant context from the conversation.\\\\n\\\\n<Chat History> \\\\nuser: What did Einstein do?\\\\nassistant: Einstein\\'s contribution or achievement was his groundbreaking research on the structure of matter, space and time, as well as the nature of gravitation. His work significantly changed the previously accepted Newtonian worldview and had a profound impact on the field of physics. He is considered one of the most significant physicists in the history of science and is widely recognized as one of the most well-known scientists of modern times.\\\\n\\\\n<Follow Up Message>\\\\nWhat did Einstein do?\\\\n\\\\n<Standalone question>\\\\n\"}], \"stream\": false, \"model\": \"gpt-3.5-turbo\", \"temperature\": 0.0, \"max_tokens\": 512}' message='Post details'\n",
      "api_version=None data='{\"messages\": [{\"role\": \"user\", \"content\": \"Given a conversation (between Human and Assistant) and a follow up message from Human, rewrite the message to be a standalone question that captures all relevant context from the conversation.\\\\n\\\\n<Chat History> \\\\nuser: What did Einstein do?\\\\nassistant: Einstein\\'s contribution or achievement was his groundbreaking research on the structure of matter, space and time, as well as the nature of gravitation. His work significantly changed the previously accepted Newtonian worldview and had a profound impact on the field of physics. He is considered one of the most significant physicists in the history of science and is widely recognized as one of the most well-known scientists of modern times.\\\\n\\\\n<Follow Up Message>\\\\nWhat did Einstein do?\\\\n\\\\n<Standalone question>\\\\n\"}], \"stream\": false, \"model\": \"gpt-3.5-turbo\", \"temperature\": 0.0, \"max_tokens\": 512}' message='Post details'\n",
      "DEBUG:urllib3.connectionpool:https://api.openai.com:443 \"POST /v1/chat/completions HTTP/1.1\" 200 None\n",
      "https://api.openai.com:443 \"POST /v1/chat/completions HTTP/1.1\" 200 None\n",
      "DEBUG:openai:message='OpenAI API response' path=https://api.openai.com/v1/chat/completions processing_ms=1306 request_id=e9760843f9b06419a36c3e3d878e7abd response_code=200\n",
      "message='OpenAI API response' path=https://api.openai.com/v1/chat/completions processing_ms=1306 request_id=e9760843f9b06419a36c3e3d878e7abd response_code=200\n",
      "DEBUG:llama_index.llm_predictor.base:What were Einstein's contributions and achievements in the field of physics?\n",
      "What were Einstein's contributions and achievements in the field of physics?\n",
      "INFO:llama_index.chat_engine.condense_question:Querying with: What were Einstein's contributions and achievements in the field of physics?\n",
      "Querying with: What were Einstein's contributions and achievements in the field of physics?\n",
      "Querying with: What were Einstein's contributions and achievements in the field of physics?\n",
      "DEBUG:openai:message='Request to OpenAI API' method=post path=https://api.openai.com/v1/embeddings\n",
      "message='Request to OpenAI API' method=post path=https://api.openai.com/v1/embeddings\n",
      "DEBUG:openai:api_version=None data='{\"input\": [\"What were Einstein\\'s contributions and achievements in the field of physics?\"], \"model\": \"text-embedding-ada-002\", \"encoding_format\": \"base64\"}' message='Post details'\n",
      "api_version=None data='{\"input\": [\"What were Einstein\\'s contributions and achievements in the field of physics?\"], \"model\": \"text-embedding-ada-002\", \"encoding_format\": \"base64\"}' message='Post details'\n",
      "DEBUG:urllib3.connectionpool:https://api.openai.com:443 \"POST /v1/embeddings HTTP/1.1\" 200 None\n",
      "https://api.openai.com:443 \"POST /v1/embeddings HTTP/1.1\" 200 None\n",
      "DEBUG:openai:message='OpenAI API response' path=https://api.openai.com/v1/embeddings processing_ms=28 request_id=cb2a4b839022a0d729b82ceacbe621cc response_code=200\n",
      "message='OpenAI API response' path=https://api.openai.com/v1/embeddings processing_ms=28 request_id=cb2a4b839022a0d729b82ceacbe621cc response_code=200\n",
      "DEBUG:llama_index.indices.utils:> Top 1 nodes:\n",
      "> [Node 83a538bb-4d34-4815-938f-f3aaab4c105d] [Similarity score:             0.853019] Albert Einstein (* 14. März 1879 in Ulm; † 18. April 1955 in Princeton, New Jersey)\n",
      "war ein schwe...\n",
      "> Top 1 nodes:\n",
      "> [Node 83a538bb-4d34-4815-938f-f3aaab4c105d] [Similarity score:             0.853019] Albert Einstein (* 14. März 1879 in Ulm; † 18. April 1955 in Princeton, New Jersey)\n",
      "war ein schwe...\n",
      "DEBUG:openai:message='Request to OpenAI API' method=post path=https://api.openai.com/v1/chat/completions\n",
      "message='Request to OpenAI API' method=post path=https://api.openai.com/v1/chat/completions\n",
      "DEBUG:openai:api_version=None data='{\"messages\": [{\"role\": \"system\", \"content\": \"You are an expert Q&A system that is trusted around the world.\\\\nAlways answer the query using the provided context information, and not prior knowledge.\\\\nSome rules to follow:\\\\n1. Never directly reference the given context in your answer.\\\\n2. Avoid statements like \\'Based on the context, ...\\' or \\'The context information ...\\' or anything along those lines.\"}, {\"role\": \"user\", \"content\": \"Context information is below.\\\\n---------------------\\\\n[Excerpt from document]\\\\nmarvin_metadata: {\\'description\\': \\'Albert Einstein was a Swiss-American theoretical physicist of German origin. He was born on March 14, 1879 in Ulm and died on April 18, 1955 in Princeton, New Jersey. Einstein had Swiss citizenship from 1901 and additionally obtained US citizenship in 1940. He was also a German citizen from 1914 to 1934. Einstein is considered one of the most significant physicists in the history of science and one of the most well-known scientists of modern times. His research on the structure of matter, space and time, as well as the nature of gravitation, significantly changed the previously accepted Newtonian worldview. In a survey conducted by the journal Physics World in 1999, Albert Einstein was voted the most significant physicist of all time, ahead of Isaac Newton, James Clerk Maxwell, Niels Bohr, and Werner Heisenberg.\\', \\'text_category\\': \\'Biography\\'}\\\\nExcerpt:\\\\n-----\\\\nAlbert Einstein (* 14. M\\\\u00e4rz 1879 in Ulm; \\\\u2020 18. April 1955 in Princeton, New Jersey)\\\\nwar ein schweizerisch-US-amerikanischer theoretischer Physiker deutscher Herkunft.\\\\nDer Wissenschaftler j\\\\u00fcdischer Abstammung hatte ab 1901 die Schweizer und ab 1940 zus\\\\u00e4tzlich die US-amerikanische Staatsb\\\\u00fcrgerschaft.\\\\nDeutscher Staatsangeh\\\\u00f6riger war Einstein nochmals von 1914 bis 1934.\\\\nEr gilt als einer der bedeutendsten Physiker der Wissenschaftsgeschichte und weltweit als einer der bekanntesten Wissenschaftler der Neuzeit.\\\\nSeine Forschungen zur Struktur von Materie, Raum und Zeit sowie zum Wesen der Gravitation ver\\\\u00e4nderten ma\\\\u00dfgeblich das zuvor geltende newtonsche Weltbild.\\\\n1999 wurde Albert Einstein in einer durch die Fachzeitschrift Physics World durchgef\\\\u00fchrten Umfrage unter f\\\\u00fchrenden Physikern vor Isaac Newton,\\\\nJames Clerk Maxwell, Niels Bohr und Werner Heisenberg zum bedeutendsten Physiker aller Zeiten gew\\\\u00e4hlt.\\\\n-----\\\\n---------------------\\\\nGiven the context information and not prior knowledge, answer the query.\\\\nQuery: What were Einstein\\'s contributions and achievements in the field of physics?\\\\nAnswer: \"}], \"stream\": false, \"model\": \"gpt-3.5-turbo\", \"temperature\": 0.0, \"max_tokens\": 512}' message='Post details'\n",
      "api_version=None data='{\"messages\": [{\"role\": \"system\", \"content\": \"You are an expert Q&A system that is trusted around the world.\\\\nAlways answer the query using the provided context information, and not prior knowledge.\\\\nSome rules to follow:\\\\n1. Never directly reference the given context in your answer.\\\\n2. Avoid statements like \\'Based on the context, ...\\' or \\'The context information ...\\' or anything along those lines.\"}, {\"role\": \"user\", \"content\": \"Context information is below.\\\\n---------------------\\\\n[Excerpt from document]\\\\nmarvin_metadata: {\\'description\\': \\'Albert Einstein was a Swiss-American theoretical physicist of German origin. He was born on March 14, 1879 in Ulm and died on April 18, 1955 in Princeton, New Jersey. Einstein had Swiss citizenship from 1901 and additionally obtained US citizenship in 1940. He was also a German citizen from 1914 to 1934. Einstein is considered one of the most significant physicists in the history of science and one of the most well-known scientists of modern times. His research on the structure of matter, space and time, as well as the nature of gravitation, significantly changed the previously accepted Newtonian worldview. In a survey conducted by the journal Physics World in 1999, Albert Einstein was voted the most significant physicist of all time, ahead of Isaac Newton, James Clerk Maxwell, Niels Bohr, and Werner Heisenberg.\\', \\'text_category\\': \\'Biography\\'}\\\\nExcerpt:\\\\n-----\\\\nAlbert Einstein (* 14. M\\\\u00e4rz 1879 in Ulm; \\\\u2020 18. April 1955 in Princeton, New Jersey)\\\\nwar ein schweizerisch-US-amerikanischer theoretischer Physiker deutscher Herkunft.\\\\nDer Wissenschaftler j\\\\u00fcdischer Abstammung hatte ab 1901 die Schweizer und ab 1940 zus\\\\u00e4tzlich die US-amerikanische Staatsb\\\\u00fcrgerschaft.\\\\nDeutscher Staatsangeh\\\\u00f6riger war Einstein nochmals von 1914 bis 1934.\\\\nEr gilt als einer der bedeutendsten Physiker der Wissenschaftsgeschichte und weltweit als einer der bekanntesten Wissenschaftler der Neuzeit.\\\\nSeine Forschungen zur Struktur von Materie, Raum und Zeit sowie zum Wesen der Gravitation ver\\\\u00e4nderten ma\\\\u00dfgeblich das zuvor geltende newtonsche Weltbild.\\\\n1999 wurde Albert Einstein in einer durch die Fachzeitschrift Physics World durchgef\\\\u00fchrten Umfrage unter f\\\\u00fchrenden Physikern vor Isaac Newton,\\\\nJames Clerk Maxwell, Niels Bohr und Werner Heisenberg zum bedeutendsten Physiker aller Zeiten gew\\\\u00e4hlt.\\\\n-----\\\\n---------------------\\\\nGiven the context information and not prior knowledge, answer the query.\\\\nQuery: What were Einstein\\'s contributions and achievements in the field of physics?\\\\nAnswer: \"}], \"stream\": false, \"model\": \"gpt-3.5-turbo\", \"temperature\": 0.0, \"max_tokens\": 512}' message='Post details'\n",
      "DEBUG:urllib3.connectionpool:https://api.openai.com:443 \"POST /v1/chat/completions HTTP/1.1\" 200 None\n",
      "https://api.openai.com:443 \"POST /v1/chat/completions HTTP/1.1\" 200 None\n",
      "DEBUG:openai:message='OpenAI API response' path=https://api.openai.com/v1/chat/completions processing_ms=4776 request_id=0f409d03806e3adfbd52919b95d1f191 response_code=200\n",
      "message='OpenAI API response' path=https://api.openai.com/v1/chat/completions processing_ms=4776 request_id=0f409d03806e3adfbd52919b95d1f191 response_code=200\n",
      "DEBUG:llama_index.llm_predictor.base:Einstein made significant contributions and achievements in the field of physics. His research on the structure of matter, space and time, as well as the nature of gravitation, significantly changed the previously accepted Newtonian worldview. He is considered one of the most significant physicists in the history of science and one of the most well-known scientists of modern times. In a survey conducted by the journal Physics World in 1999, Albert Einstein was voted the most significant physicist of all time, ahead of Isaac Newton, James Clerk Maxwell, Niels Bohr, and Werner Heisenberg.\n",
      "Einstein made significant contributions and achievements in the field of physics. His research on the structure of matter, space and time, as well as the nature of gravitation, significantly changed the previously accepted Newtonian worldview. He is considered one of the most significant physicists in the history of science and one of the most well-known scientists of modern times. In a survey conducted by the journal Physics World in 1999, Albert Einstein was voted the most significant physicist of all time, ahead of Isaac Newton, James Clerk Maxwell, Niels Bohr, and Werner Heisenberg.\n",
      "INFO:root:Number of used tokens: 471\n",
      "Number of used tokens: 471\n"
     ]
    }
   ],
   "source": [
    "response = chat_engine.chat(\"What did Einstein do?\")\n",
    "logging.info(f\"Number of used tokens: {token_counter.total_embedding_token_count}\")"
   ]
  },
  {
   "cell_type": "code",
   "execution_count": 15,
   "metadata": {},
   "outputs": [
    {
     "data": {
      "text/plain": [
       "'Einstein made significant contributions and achievements in the field of physics. His research on the structure of matter, space and time, as well as the nature of gravitation, significantly changed the previously accepted Newtonian worldview. He is considered one of the most significant physicists in the history of science and one of the most well-known scientists of modern times. In a survey conducted by the journal Physics World in 1999, Albert Einstein was voted the most significant physicist of all time, ahead of Isaac Newton, James Clerk Maxwell, Niels Bohr, and Werner Heisenberg.'"
      ]
     },
     "execution_count": 15,
     "metadata": {},
     "output_type": "execute_result"
    }
   ],
   "source": [
    "response.response"
   ]
  },
  {
   "cell_type": "code",
   "execution_count": 16,
   "metadata": {},
   "outputs": [
    {
     "data": {
      "text/plain": [
       "[NodeWithScore(node=TextNode(id_='83a538bb-4d34-4815-938f-f3aaab4c105d', embedding=None, metadata={'marvin_metadata': {'description': 'Albert Einstein was a Swiss-American theoretical physicist of German origin. He was born on March 14, 1879 in Ulm and died on April 18, 1955 in Princeton, New Jersey. Einstein had Swiss citizenship from 1901 and additionally obtained US citizenship in 1940. He was also a German citizen from 1914 to 1934. Einstein is considered one of the most significant physicists in the history of science and one of the most well-known scientists of modern times. His research on the structure of matter, space and time, as well as the nature of gravitation, significantly changed the previously accepted Newtonian worldview. In a survey conducted by the journal Physics World in 1999, Albert Einstein was voted the most significant physicist of all time, ahead of Isaac Newton, James Clerk Maxwell, Niels Bohr, and Werner Heisenberg.', 'text_category': 'Biography'}}, excluded_embed_metadata_keys=[], excluded_llm_metadata_keys=[], relationships={<NodeRelationship.SOURCE: '1'>: RelatedNodeInfo(node_id='d9dbacea-5380-46ee-b5c8-2d7444c1738e', node_type=None, metadata={}, hash='c1bb2844b9836712e027d6492190367e6a0a01b2999eea319243b3e8f22cc5fa')}, hash='8c90624cdcb7b02a387a3f6bdeb1af440cad7f1528e222975b44b88b23c1b280', text='Albert Einstein (* 14. März 1879 in Ulm; † 18. April 1955 in Princeton, New Jersey)\\nwar ein schweizerisch-US-amerikanischer theoretischer Physiker deutscher Herkunft.\\nDer Wissenschaftler jüdischer Abstammung hatte ab 1901 die Schweizer und ab 1940 zusätzlich die US-amerikanische Staatsbürgerschaft.\\nDeutscher Staatsangehöriger war Einstein nochmals von 1914 bis 1934.\\nEr gilt als einer der bedeutendsten Physiker der Wissenschaftsgeschichte und weltweit als einer der bekanntesten Wissenschaftler der Neuzeit.\\nSeine Forschungen zur Struktur von Materie, Raum und Zeit sowie zum Wesen der Gravitation veränderten maßgeblich das zuvor geltende newtonsche Weltbild.\\n1999 wurde Albert Einstein in einer durch die Fachzeitschrift Physics World durchgeführten Umfrage unter führenden Physikern vor Isaac Newton,\\nJames Clerk Maxwell, Niels Bohr und Werner Heisenberg zum bedeutendsten Physiker aller Zeiten gewählt.', start_char_idx=None, end_char_idx=None, text_template='[Excerpt from document]\\n{metadata_str}\\nExcerpt:\\n-----\\n{content}\\n-----\\n', metadata_template='{key}: {value}', metadata_seperator='\\n'), score=0.8530185516097231)]"
      ]
     },
     "execution_count": 16,
     "metadata": {},
     "output_type": "execute_result"
    }
   ],
   "source": [
    "response.source_nodes"
   ]
  },
  {
   "cell_type": "code",
   "execution_count": 17,
   "metadata": {},
   "outputs": [
    {
     "name": "stdout",
     "output_type": "stream",
     "text": [
      "DEBUG:llama_index.chat_engine.condense_question:user: What did Einstein do?\n",
      "assistant: Einstein's contribution or achievement was his groundbreaking research on the structure of matter, space and time, as well as the nature of gravitation. His work significantly changed the previously accepted Newtonian worldview and had a profound impact on the field of physics. He is considered one of the most significant physicists in the history of science and is widely recognized as one of the most well-known scientists of modern times.\n",
      "user: What did Einstein do?\n",
      "assistant: Einstein made significant contributions and achievements in the field of physics. His research on the structure of matter, space and time, as well as the nature of gravitation, significantly changed the previously accepted Newtonian worldview. He is considered one of the most significant physicists in the history of science and one of the most well-known scientists of modern times. In a survey conducted by the journal Physics World in 1999, Albert Einstein was voted the most significant physicist of all time, ahead of Isaac Newton, James Clerk Maxwell, Niels Bohr, and Werner Heisenberg.\n",
      "user: What did Einstein do?\n",
      "assistant: Einstein's contribution or achievement was his groundbreaking research on the structure of matter, space and time, as well as the nature of gravitation. His work significantly changed the previously accepted Newtonian worldview and had a profound impact on the field of physics. He is considered one of the most significant physicists in the history of science and is widely recognized as one of the most well-known scientists of modern times.\n",
      "user: What did Einstein do?\n",
      "assistant: Einstein made significant contributions and achievements in the field of physics. His research on the structure of matter, space and time, as well as the nature of gravitation, significantly changed the previously accepted Newtonian worldview. He is considered one of the most significant physicists in the history of science and one of the most well-known scientists of modern times. In a survey conducted by the journal Physics World in 1999, Albert Einstein was voted the most significant physicist of all time, ahead of Isaac Newton, James Clerk Maxwell, Niels Bohr, and Werner Heisenberg.\n",
      "DEBUG:openai:message='Request to OpenAI API' method=post path=https://api.openai.com/v1/chat/completions\n",
      "message='Request to OpenAI API' method=post path=https://api.openai.com/v1/chat/completions\n",
      "DEBUG:openai:api_version=None data='{\"messages\": [{\"role\": \"user\", \"content\": \"Given a conversation (between Human and Assistant) and a follow up message from Human, rewrite the message to be a standalone question that captures all relevant context from the conversation.\\\\n\\\\n<Chat History> \\\\nuser: What did Einstein do?\\\\nassistant: Einstein\\'s contribution or achievement was his groundbreaking research on the structure of matter, space and time, as well as the nature of gravitation. His work significantly changed the previously accepted Newtonian worldview and had a profound impact on the field of physics. He is considered one of the most significant physicists in the history of science and is widely recognized as one of the most well-known scientists of modern times.\\\\nuser: What did Einstein do?\\\\nassistant: Einstein made significant contributions and achievements in the field of physics. His research on the structure of matter, space and time, as well as the nature of gravitation, significantly changed the previously accepted Newtonian worldview. He is considered one of the most significant physicists in the history of science and one of the most well-known scientists of modern times. In a survey conducted by the journal Physics World in 1999, Albert Einstein was voted the most significant physicist of all time, ahead of Isaac Newton, James Clerk Maxwell, Niels Bohr, and Werner Heisenberg.\\\\n\\\\n<Follow Up Message>\\\\nWhat was Einsteins\\' favorite food?\\\\n\\\\n<Standalone question>\\\\n\"}], \"stream\": false, \"model\": \"gpt-3.5-turbo\", \"temperature\": 0.0, \"max_tokens\": 512}' message='Post details'\n",
      "api_version=None data='{\"messages\": [{\"role\": \"user\", \"content\": \"Given a conversation (between Human and Assistant) and a follow up message from Human, rewrite the message to be a standalone question that captures all relevant context from the conversation.\\\\n\\\\n<Chat History> \\\\nuser: What did Einstein do?\\\\nassistant: Einstein\\'s contribution or achievement was his groundbreaking research on the structure of matter, space and time, as well as the nature of gravitation. His work significantly changed the previously accepted Newtonian worldview and had a profound impact on the field of physics. He is considered one of the most significant physicists in the history of science and is widely recognized as one of the most well-known scientists of modern times.\\\\nuser: What did Einstein do?\\\\nassistant: Einstein made significant contributions and achievements in the field of physics. His research on the structure of matter, space and time, as well as the nature of gravitation, significantly changed the previously accepted Newtonian worldview. He is considered one of the most significant physicists in the history of science and one of the most well-known scientists of modern times. In a survey conducted by the journal Physics World in 1999, Albert Einstein was voted the most significant physicist of all time, ahead of Isaac Newton, James Clerk Maxwell, Niels Bohr, and Werner Heisenberg.\\\\n\\\\n<Follow Up Message>\\\\nWhat was Einsteins\\' favorite food?\\\\n\\\\n<Standalone question>\\\\n\"}], \"stream\": false, \"model\": \"gpt-3.5-turbo\", \"temperature\": 0.0, \"max_tokens\": 512}' message='Post details'\n",
      "DEBUG:urllib3.util.retry:Converted retries value: 2 -> Retry(total=2, connect=None, read=None, redirect=None, status=None)\n",
      "Converted retries value: 2 -> Retry(total=2, connect=None, read=None, redirect=None, status=None)\n",
      "DEBUG:urllib3.connectionpool:Starting new HTTPS connection (1): api.openai.com:443\n",
      "Starting new HTTPS connection (1): api.openai.com:443\n",
      "DEBUG:urllib3.connectionpool:https://api.openai.com:443 \"POST /v1/chat/completions HTTP/1.1\" 200 None\n",
      "https://api.openai.com:443 \"POST /v1/chat/completions HTTP/1.1\" 200 None\n",
      "DEBUG:openai:message='OpenAI API response' path=https://api.openai.com/v1/chat/completions processing_ms=591 request_id=c49a9ac8fc51d1d6d88268dec7cfd078 response_code=200\n",
      "message='OpenAI API response' path=https://api.openai.com/v1/chat/completions processing_ms=591 request_id=c49a9ac8fc51d1d6d88268dec7cfd078 response_code=200\n",
      "DEBUG:llama_index.llm_predictor.base:What was Albert Einstein's favorite food?\n",
      "What was Albert Einstein's favorite food?\n",
      "INFO:llama_index.chat_engine.condense_question:Querying with: What was Albert Einstein's favorite food?\n",
      "Querying with: What was Albert Einstein's favorite food?\n",
      "Querying with: What was Albert Einstein's favorite food?\n",
      "DEBUG:openai:message='Request to OpenAI API' method=post path=https://api.openai.com/v1/embeddings\n",
      "message='Request to OpenAI API' method=post path=https://api.openai.com/v1/embeddings\n",
      "DEBUG:openai:api_version=None data='{\"input\": [\"What was Albert Einstein\\'s favorite food?\"], \"model\": \"text-embedding-ada-002\", \"encoding_format\": \"base64\"}' message='Post details'\n",
      "api_version=None data='{\"input\": [\"What was Albert Einstein\\'s favorite food?\"], \"model\": \"text-embedding-ada-002\", \"encoding_format\": \"base64\"}' message='Post details'\n",
      "DEBUG:urllib3.connectionpool:https://api.openai.com:443 \"POST /v1/embeddings HTTP/1.1\" 200 None\n",
      "https://api.openai.com:443 \"POST /v1/embeddings HTTP/1.1\" 200 None\n",
      "DEBUG:openai:message='OpenAI API response' path=https://api.openai.com/v1/embeddings processing_ms=23 request_id=c98b4634d03f07e6047060d97382055b response_code=200\n",
      "message='OpenAI API response' path=https://api.openai.com/v1/embeddings processing_ms=23 request_id=c98b4634d03f07e6047060d97382055b response_code=200\n",
      "DEBUG:llama_index.indices.utils:> Top 1 nodes:\n",
      "> [Node 83a538bb-4d34-4815-938f-f3aaab4c105d] [Similarity score:             0.801475] Albert Einstein (* 14. März 1879 in Ulm; † 18. April 1955 in Princeton, New Jersey)\n",
      "war ein schwe...\n",
      "> Top 1 nodes:\n",
      "> [Node 83a538bb-4d34-4815-938f-f3aaab4c105d] [Similarity score:             0.801475] Albert Einstein (* 14. März 1879 in Ulm; † 18. April 1955 in Princeton, New Jersey)\n",
      "war ein schwe...\n",
      "DEBUG:openai:message='Request to OpenAI API' method=post path=https://api.openai.com/v1/chat/completions\n",
      "message='Request to OpenAI API' method=post path=https://api.openai.com/v1/chat/completions\n",
      "DEBUG:openai:api_version=None data='{\"messages\": [{\"role\": \"system\", \"content\": \"You are an expert Q&A system that is trusted around the world.\\\\nAlways answer the query using the provided context information, and not prior knowledge.\\\\nSome rules to follow:\\\\n1. Never directly reference the given context in your answer.\\\\n2. Avoid statements like \\'Based on the context, ...\\' or \\'The context information ...\\' or anything along those lines.\"}, {\"role\": \"user\", \"content\": \"Context information is below.\\\\n---------------------\\\\n[Excerpt from document]\\\\nmarvin_metadata: {\\'description\\': \\'Albert Einstein was a Swiss-American theoretical physicist of German origin. He was born on March 14, 1879 in Ulm and died on April 18, 1955 in Princeton, New Jersey. Einstein had Swiss citizenship from 1901 and additionally obtained US citizenship in 1940. He was also a German citizen from 1914 to 1934. Einstein is considered one of the most significant physicists in the history of science and one of the most well-known scientists of modern times. His research on the structure of matter, space and time, as well as the nature of gravitation, significantly changed the previously accepted Newtonian worldview. In a survey conducted by the journal Physics World in 1999, Albert Einstein was voted the most significant physicist of all time, ahead of Isaac Newton, James Clerk Maxwell, Niels Bohr, and Werner Heisenberg.\\', \\'text_category\\': \\'Biography\\'}\\\\nExcerpt:\\\\n-----\\\\nAlbert Einstein (* 14. M\\\\u00e4rz 1879 in Ulm; \\\\u2020 18. April 1955 in Princeton, New Jersey)\\\\nwar ein schweizerisch-US-amerikanischer theoretischer Physiker deutscher Herkunft.\\\\nDer Wissenschaftler j\\\\u00fcdischer Abstammung hatte ab 1901 die Schweizer und ab 1940 zus\\\\u00e4tzlich die US-amerikanische Staatsb\\\\u00fcrgerschaft.\\\\nDeutscher Staatsangeh\\\\u00f6riger war Einstein nochmals von 1914 bis 1934.\\\\nEr gilt als einer der bedeutendsten Physiker der Wissenschaftsgeschichte und weltweit als einer der bekanntesten Wissenschaftler der Neuzeit.\\\\nSeine Forschungen zur Struktur von Materie, Raum und Zeit sowie zum Wesen der Gravitation ver\\\\u00e4nderten ma\\\\u00dfgeblich das zuvor geltende newtonsche Weltbild.\\\\n1999 wurde Albert Einstein in einer durch die Fachzeitschrift Physics World durchgef\\\\u00fchrten Umfrage unter f\\\\u00fchrenden Physikern vor Isaac Newton,\\\\nJames Clerk Maxwell, Niels Bohr und Werner Heisenberg zum bedeutendsten Physiker aller Zeiten gew\\\\u00e4hlt.\\\\n-----\\\\n---------------------\\\\nGiven the context information and not prior knowledge, answer the query.\\\\nQuery: What was Albert Einstein\\'s favorite food?\\\\nAnswer: \"}], \"stream\": false, \"model\": \"gpt-3.5-turbo\", \"temperature\": 0.0, \"max_tokens\": 512}' message='Post details'\n",
      "api_version=None data='{\"messages\": [{\"role\": \"system\", \"content\": \"You are an expert Q&A system that is trusted around the world.\\\\nAlways answer the query using the provided context information, and not prior knowledge.\\\\nSome rules to follow:\\\\n1. Never directly reference the given context in your answer.\\\\n2. Avoid statements like \\'Based on the context, ...\\' or \\'The context information ...\\' or anything along those lines.\"}, {\"role\": \"user\", \"content\": \"Context information is below.\\\\n---------------------\\\\n[Excerpt from document]\\\\nmarvin_metadata: {\\'description\\': \\'Albert Einstein was a Swiss-American theoretical physicist of German origin. He was born on March 14, 1879 in Ulm and died on April 18, 1955 in Princeton, New Jersey. Einstein had Swiss citizenship from 1901 and additionally obtained US citizenship in 1940. He was also a German citizen from 1914 to 1934. Einstein is considered one of the most significant physicists in the history of science and one of the most well-known scientists of modern times. His research on the structure of matter, space and time, as well as the nature of gravitation, significantly changed the previously accepted Newtonian worldview. In a survey conducted by the journal Physics World in 1999, Albert Einstein was voted the most significant physicist of all time, ahead of Isaac Newton, James Clerk Maxwell, Niels Bohr, and Werner Heisenberg.\\', \\'text_category\\': \\'Biography\\'}\\\\nExcerpt:\\\\n-----\\\\nAlbert Einstein (* 14. M\\\\u00e4rz 1879 in Ulm; \\\\u2020 18. April 1955 in Princeton, New Jersey)\\\\nwar ein schweizerisch-US-amerikanischer theoretischer Physiker deutscher Herkunft.\\\\nDer Wissenschaftler j\\\\u00fcdischer Abstammung hatte ab 1901 die Schweizer und ab 1940 zus\\\\u00e4tzlich die US-amerikanische Staatsb\\\\u00fcrgerschaft.\\\\nDeutscher Staatsangeh\\\\u00f6riger war Einstein nochmals von 1914 bis 1934.\\\\nEr gilt als einer der bedeutendsten Physiker der Wissenschaftsgeschichte und weltweit als einer der bekanntesten Wissenschaftler der Neuzeit.\\\\nSeine Forschungen zur Struktur von Materie, Raum und Zeit sowie zum Wesen der Gravitation ver\\\\u00e4nderten ma\\\\u00dfgeblich das zuvor geltende newtonsche Weltbild.\\\\n1999 wurde Albert Einstein in einer durch die Fachzeitschrift Physics World durchgef\\\\u00fchrten Umfrage unter f\\\\u00fchrenden Physikern vor Isaac Newton,\\\\nJames Clerk Maxwell, Niels Bohr und Werner Heisenberg zum bedeutendsten Physiker aller Zeiten gew\\\\u00e4hlt.\\\\n-----\\\\n---------------------\\\\nGiven the context information and not prior knowledge, answer the query.\\\\nQuery: What was Albert Einstein\\'s favorite food?\\\\nAnswer: \"}], \"stream\": false, \"model\": \"gpt-3.5-turbo\", \"temperature\": 0.0, \"max_tokens\": 512}' message='Post details'\n",
      "DEBUG:urllib3.connectionpool:https://api.openai.com:443 \"POST /v1/chat/completions HTTP/1.1\" 200 None\n",
      "https://api.openai.com:443 \"POST /v1/chat/completions HTTP/1.1\" 200 None\n",
      "DEBUG:openai:message='OpenAI API response' path=https://api.openai.com/v1/chat/completions processing_ms=1042 request_id=228f58e34243f7f6e8d18e4fd630da4d response_code=200\n",
      "message='OpenAI API response' path=https://api.openai.com/v1/chat/completions processing_ms=1042 request_id=228f58e34243f7f6e8d18e4fd630da4d response_code=200\n",
      "DEBUG:llama_index.llm_predictor.base:I'm sorry, but the given context does not provide any information about Albert Einstein's favorite food.\n",
      "I'm sorry, but the given context does not provide any information about Albert Einstein's favorite food.\n",
      "INFO:root:Number of used tokens: 479\n",
      "Number of used tokens: 479\n"
     ]
    }
   ],
   "source": [
    "response = chat_engine.chat(\"What was Einsteins' favorite food?\")\n",
    "logging.info(f\"Number of used tokens: {token_counter.total_embedding_token_count}\")"
   ]
  },
  {
   "cell_type": "code",
   "execution_count": 18,
   "metadata": {},
   "outputs": [
    {
     "data": {
      "text/plain": [
       "\"I'm sorry, but the given context does not provide any information about Albert Einstein's favorite food.\""
      ]
     },
     "execution_count": 18,
     "metadata": {},
     "output_type": "execute_result"
    }
   ],
   "source": [
    "response.response"
   ]
  },
  {
   "cell_type": "markdown",
   "metadata": {},
   "source": [
    "- https://github.com/jerryjliu/llama_index/blob/main/docs/examples/index_structs/doc_summary/DocSummary.ipynb\n",
    "- https://betterprogramming.pub/llamaindex-0-6-0-a-new-query-interface-over-your-data-331996d47e89\n",
    "- https://gpt-index.readthedocs.io/en/latest/examples/query_engine/CustomRetrievers.html\n",
    "- https://gpt-index.readthedocs.io/en/latest/core_modules/query_modules/chat_engines/usage_pattern.html\n",
    "\n",
    "- https://gpt-index.readthedocs.io/en/latest/examples/metadata_extraction/MarvinMetadataExtractorDemo.html"
   ]
  }
 ],
 "metadata": {
  "kernelspec": {
   "display_name": "venv",
   "language": "python",
   "name": "python3"
  },
  "language_info": {
   "codemirror_mode": {
    "name": "ipython",
    "version": 3
   },
   "file_extension": ".py",
   "mimetype": "text/x-python",
   "name": "python",
   "nbconvert_exporter": "python",
   "pygments_lexer": "ipython3",
   "version": "3.10.1"
  },
  "orig_nbformat": 4
 },
 "nbformat": 4,
 "nbformat_minor": 2
}
