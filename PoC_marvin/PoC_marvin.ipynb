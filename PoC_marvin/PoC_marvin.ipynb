{
 "cells": [
  {
   "cell_type": "code",
   "execution_count": null,
   "metadata": {},
   "outputs": [],
   "source": [
    "from marvin import ai_fn, AIApplication, ai_model\n",
    "from marvin import settings as marvin_settings\n",
    "import marvin.tools.filesystem\n",
    "import marvin.tools.shell\n",
    "from marvin.tools.chroma import MultiQueryChroma as marvin_QueryChroma\n",
    "#from marvin.tools.chroma import \n",
    "import marvin.utilities.embeddings\n",
    "\n",
    "import os\n",
    "import pathlib\n",
    "from dotenv import load_dotenv\n",
    "import certifi\n",
    "\n",
    "# workaround for mac to solve \"SSL: CERTIFICATE_VERIFY_FAILED Error\"\n",
    "os.environ[\"REQUESTS_CA_BUNDLE\"] = certifi.where()\n",
    "os.environ[\"SSL_CERT_FILE\"] = certifi.where()\n",
    "\n",
    "\n",
    "load_dotenv()\n",
    "marvin_settings.openai.api_key = os.getenv('OPENAI_API_KEY')"
   ]
  },
  {
   "cell_type": "code",
   "execution_count": null,
   "metadata": {},
   "outputs": [],
   "source": [
    "FILE_DIR = pathlib.Path.cwd() / \"data\"\n",
    "str(FILE_DIR)"
   ]
  },
  {
   "cell_type": "markdown",
   "metadata": {},
   "source": [
    "## Problem: \n",
    "- with the \"naive\" approach below no vector data base is stored to the given directory, so that the embeddings will most likely not be reused and have to be created each time a new question is prompted, this is quite expensive.\n",
    "- nevertheless, there is a way to create a vector database with marvin, which however, is much more complicated than with langchain: https://github.com/PrefectHQ/marvin/blob/main/cookbook/test_writing_application.py (marvis-recipies, MultiQuery)\n",
    "- for reading pdf files an appropriate tool/ function has to be provided (written)\n",
    "- I feel marvins big advantages/ potential lies definetely more in the area of classifying unstructured data. By using ai_models and scraping websites data can easily be collected and structured, also labeling data and sentiment analysis are great possibilities to leverage the marvin library. ai_applications like used here are also very impressing, but by giving marvin the tools and rights to read and write seems to be unsafe for my environment ... since the magic lays in prompt engineering here, words have to be chosen carefully and are prone to misunderstandings\n",
    "\n",
    "Nevertheless, the AIApplication below opens the given txt file on his own, reads it and answeres the prompted question by leveraging the openai API successfully..."
   ]
  },
  {
   "cell_type": "code",
   "execution_count": null,
   "metadata": {},
   "outputs": [],
   "source": [
    "\n",
    "description = (\"A chatbot. Users will ask questions concerning a given text. \")\n",
    "\n",
    "\n",
    "qa = AIApplication(\n",
    "    name=\"Chatbot\",\n",
    "    #state=QAState(),\n",
    "    #history=\n",
    "    description=f\"\"\"\n",
    "    You are a chatbot answering to to all questions concerning the content of a given\n",
    "    text file.\n",
    "    The text file has the name {\"test2.txt\"} and is located in the following directory {FILE_DIR}. Please make the embeddings for\n",
    "    the content of the text file only once and save them into a chroma vector database, which should itself be saved for later use in \n",
    "    {FILE_DIR} .\n",
    "    You are only allowed to read or write files in the {FILE_DIR}. \n",
    "    The user will give you instructions on what questions to answer. Make sure you always reuse the embeddings from the \n",
    "    existing vector database as knowledgebase saved by yourself only once in the {FILE_DIR}.\n",
    "    When you write the answers, you will need to ensure that the\n",
    "    user's expectations are met. Remember, you are an accurate and experianced author \n",
    "    and you write unique and short answers stronly aligned to the content of the given text file.\n",
    "    You should use friendly, easy to read language, but stay correct and focussed.\n",
    "    The answers should not have more than 10 sentences.\n",
    "    \"\"\", \n",
    "    tools=[\n",
    "        marvin.tools.filesystem.ReadFile(root_dir=FILE_DIR),\n",
    "        marvin.tools.filesystem.WriteFile(root_dir=FILE_DIR),\n",
    "        marvin_QueryChroma(\n",
    "            name=\"chroma_db_text\",\n",
    "            description=\"chroma data base to store the embeddings of the content of the given text\"\n",
    "        ),\n",
    "        marvin.utilities.embeddings.create_openai_embeddings,\n",
    "        #marvin.tools.shell.Shell(\n",
    "        #    require_confirmation=False, working_directory=FILE_DIR\n",
    "        #)\n",
    "    ], \n",
    "    \n",
    "    )\n",
    "\n",
    "    #     \n",
    "response = qa(\"Please give a summary of the given text\")\n",
    "print(response)\n"
   ]
  },
  {
   "cell_type": "code",
   "execution_count": null,
   "metadata": {},
   "outputs": [],
   "source": []
  },
  {
   "cell_type": "markdown",
   "metadata": {},
   "source": [
    "### Some useful Links: \n",
    "- https://github.com/PrefectHQ/marvin-recipes/blob/main/examples/slackbot/slackbot.py\n",
    "- https://www.askmarvin.ai/components/ai_application/\n",
    "- https://www.askmarvin.ai/components/ai_model/\n",
    "- https://github.com/PrefectHQ/marvin/blob/main/docs/src/docs/deployment.ipynb\n",
    "- https://github.com/PrefectHQ/marvin-recipes\n",
    "- @tool: https://www.askmarvin.ai/components/ai_application/\n",
    "- Marvin source: https://github.com/PrefectHQ/marvin/blob/main/src/marvin/tools/chroma.py\n",
    "- https://github.com/PrefectHQ/marvin-recipes/blob/main/examples/flows/github_digest.py\n",
    "- https://github.com/PrefectHQ/marvin-recipes/tree/main\n",
    "- https://github.com/PrefectHQ/marvin/blob/main/cookbook/test_writing_application.py\n",
    "- https://github.com/PrefectHQ/marvin/blob/main/cookbook/slackbot/chatbot.py"
   ]
  },
  {
   "cell_type": "code",
   "execution_count": null,
   "metadata": {},
   "outputs": [],
   "source": []
  },
  {
   "cell_type": "code",
   "execution_count": null,
   "metadata": {},
   "outputs": [],
   "source": []
  },
  {
   "cell_type": "code",
   "execution_count": null,
   "metadata": {},
   "outputs": [],
   "source": []
  }
 ],
 "metadata": {
  "kernelspec": {
   "display_name": "venv",
   "language": "python",
   "name": "python3"
  },
  "language_info": {
   "codemirror_mode": {
    "name": "ipython",
    "version": 3
   },
   "file_extension": ".py",
   "mimetype": "text/x-python",
   "name": "python",
   "nbconvert_exporter": "python",
   "pygments_lexer": "ipython3",
   "version": "3.10.1"
  },
  "orig_nbformat": 4
 },
 "nbformat": 4,
 "nbformat_minor": 2
}
